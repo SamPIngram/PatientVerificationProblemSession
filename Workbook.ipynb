{
 "cells": [
  {
   "cell_type": "markdown",
   "metadata": {},
   "source": [
    "# CRBP - Patient-Specific Verification Problem Session\n",
    "### 25th November 2019 \n",
    "### Sam Ingram - samuel.ingram@postgrad.manchester.ac.uk"
   ]
  },
  {
   "cell_type": "markdown",
   "metadata": {},
   "source": [
    "## Introduction\n",
    "\n",
    "In this session, we will cover routine troubleshooting in patient-specific verifications. As this Quality Check (QC) is used as a key step in the treatment planning work-flow it is important to understand the test and what the results signify to us. Below is an example of the treatment planning work-flow and where the patient-specific verification is located. As you can see it takes place towards the end and helps us **ensure that the treatment plan we would want to deliver can *actually* be delivered on the treatment machine.** "
   ]
  },
  {
   "cell_type": "markdown",
   "metadata": {},
   "source": [
    "<img src=\"figures/Workflow.png\">"
   ]
  },
  {
   "cell_type": "markdown",
   "metadata": {},
   "source": [
    "## Understanding the test\n",
    "In order to understand some of the problems we can have in patient-specific verification, it is best to have a good understanding of the metrics we use to evaluate verifications. This section will try to visually explain the concept of the **Gamma Analysis** so that we can better discuss troubleshooting problems we see in clinical verifications..."
   ]
  },
  {
   "cell_type": "code",
   "execution_count": null,
   "metadata": {},
   "outputs": [],
   "source": [
    "# Let us set-up the requirements for the notebook before we start. Press shift+enter to run cells.\n",
    "import matplotlib.pyplot as plt\n",
    "from matplotlib.patches import Ellipse\n",
    "import numpy as np\n",
    "from ipywidgets import interact, interactive, fixed, interact_manual\n",
    "import ipywidgets as widgets\n",
    "import math\n",
    "%matplotlib inline"
   ]
  },
  {
   "cell_type": "markdown",
   "metadata": {},
   "source": [
    "### Let's talk about Gamma Analysis:\n",
    "Let us solidify our understanding of the Gamma Analysis first, we will do this by simplifying the problem to 1D:"
   ]
  },
  {
   "cell_type": "code",
   "execution_count": null,
   "metadata": {},
   "outputs": [],
   "source": [
    "reference = [2.10, 2.12, 2.13, 2.12, 2.15]\n",
    "measured = [2.09, 2.10, 2.15, 2.15, 2.20]"
   ]
  },
  {
   "cell_type": "markdown",
   "metadata": {},
   "source": [
    "In 1D we can represent our *reference dose* (obtained from the treatment planning system (TPS)) and *measured dose* (obtained from our measurement device or secondary TPS) as simple arrays. Where each value in the array represents dose and position in the array corresponds to 1mm shifts in position. The object of a Gamma Analysis is to set a threshold which balances both dose deviation and distance-to-agreement to conduct a treatment plan verification."
   ]
  },
  {
   "cell_type": "code",
   "execution_count": null,
   "metadata": {},
   "outputs": [],
   "source": [
    "plot_ref = []\n",
    "plot_meas = []\n",
    "plot_ref.append(reference)\n",
    "plot_meas.append(measured)\n",
    "with plt.xkcd():  # Save the neat plots for the research papers!\n",
    "    plt.matshow(plot_ref, vmin=2.05, vmax=2.25);\n",
    "    plt.yticks([]);\n",
    "    plt.xticks([]);\n",
    "    plt.colorbar(label='Dose (Gy)');\n",
    "    plt.title(\"Reference\");\n",
    "    plt.matshow(plot_meas, vmin=2.05, vmax=2.25);\n",
    "    plt.yticks([]);\n",
    "    plt.xticks([]);\n",
    "    plt.colorbar(label='Dose (Gy)');\n",
    "    plt.title(\"Measured\");"
   ]
  },
  {
   "cell_type": "markdown",
   "metadata": {},
   "source": [
    "### Visualising the balance of dose deviation and distance-to-agreement using a graph (1D):\n",
    "\n",
    "Note: Please don't be put off by the code. This is for demonstrating the output, not a test in coding!"
   ]
  },
  {
   "cell_type": "code",
   "execution_count": null,
   "metadata": {},
   "outputs": [],
   "source": [
    "# Setting up a function for pretty plotting\n",
    "def plot_gamma_acceptance_space(dta, dose_dev): \n",
    "    with plt.xkcd():\n",
    "        elps = Ellipse((0, 0), dta*2, dose_dev*2,edgecolor='g',facecolor='g', alpha=0.4)\n",
    "        x_axis = np.linspace(-dta-2,dta+2,100)\n",
    "        y_axis = np.linspace(-dose_dev-2, dose_dev+2,100)\n",
    "        line = np.linspace(0,0,100)\n",
    "        y = np.linspace(0,0,100)\n",
    "        a = plt.subplot(111, aspect='equal')\n",
    "        a.plot(x_axis, line, 'k--', alpha=0.5)\n",
    "        a.plot(line, y_axis, 'k--', alpha=0.5)\n",
    "        a.add_artist(elps)\n",
    "        plt.xlim(-dta-2, dta+2)\n",
    "        plt.ylim(-dose_dev-2, dose_dev+2)\n",
    "        plt.xlabel(\"Distance from point (mm)\")\n",
    "        plt.ylabel(\"Dose Deviation (%)\")\n",
    "        plt.show()"
   ]
  },
  {
   "cell_type": "code",
   "execution_count": null,
   "metadata": {},
   "outputs": [],
   "source": [
    "# Calling interaction widget which uses the function above to visualise the parameter space\n",
    "interact(plot_gamma_acceptance_space, dta=widgets.IntSlider(min=0, max=10, step=1, value=3), \n",
    "         dose_dev=widgets.IntSlider(min=0, max=10, step=1, value=3));"
   ]
  },
  {
   "cell_type": "markdown",
   "metadata": {},
   "source": [
    "As you can see the relationship between dose and radius is relatively simple. To pass the gamma analysis the point in question must fall within the green space. Anything that falls outside the green space does not pass. However, it is important to note for each pixel in question there will be several neighbouring pixels, the gamma analysis criteria only requires one of these to be in the green space to pass! The criteria for the gamma analysis can vary depending on the treatment centre and the site which is being treated. Furthermore, the pass criteria can evolve with time to reflect the centre's confidence in the technique (e.g. if you have a treatment site which never fails at 3%/3mm then why measure it!)"
   ]
  },
  {
   "cell_type": "markdown",
   "metadata": {},
   "source": [
    "### Back to our 1D arrays:\n",
    "So let us examine our reference and measured arrays above using the visualisation we have just shown. Please feel free to ignore the code block below. Just run and use the widget below to evaluate our reference and measured arrays!"
   ]
  },
  {
   "cell_type": "code",
   "execution_count": null,
   "metadata": {},
   "outputs": [],
   "source": [
    "def per_diff(ref, meas):\n",
    "    return ((meas/ref)-1)*100\n",
    "\n",
    "def check_pass(a, b, x, y):\n",
    "    p = ((math.pow(x, 2) // math.pow(a, 2)) + \n",
    "         (math.pow(y, 2) // math.pow(b, 2))) \n",
    "    return p < 1\n",
    "\n",
    "def update_max(max_diff, diff):\n",
    "    if diff > max_diff:\n",
    "        return diff\n",
    "    else:\n",
    "        return max_diff\n",
    "\n",
    "def gamma_analysis(dta, dose_dev, ref_idx):\n",
    "    with plt.xkcd():\n",
    "        overall_status = 'FAIL'\n",
    "        elps = Ellipse((0, 0), dta*2, dose_dev*2,edgecolor='g',facecolor='g', alpha=0.2)\n",
    "        x_axis = np.linspace(-dta-5,dta+5,100)\n",
    "        y_axis = np.linspace(-dose_dev-5, dose_dev+5,100)\n",
    "        line = np.linspace(0,0,100)\n",
    "        y = np.linspace(0,0,100)\n",
    "        a = plt.subplot(111, aspect='equal')\n",
    "        a.plot(x_axis, line, 'k--', alpha=0.5)\n",
    "        a.plot(line, y_axis, 'k--', alpha=0.5)\n",
    "        a.add_artist(elps)\n",
    "        max_dose_dev = 0\n",
    "        for i in range(0, dta+1):\n",
    "            if i != 0:\n",
    "                if 0 <= ref_idx+i < len(measured):\n",
    "                    diff = per_diff(reference[ref_idx], measured[ref_idx+i])\n",
    "                    max_dose_dev = update_max(max_dose_dev, abs(diff))\n",
    "                    if check_pass(dta, dose_dev, i, diff):\n",
    "                        overall_status = 'PASS'\n",
    "                        a.plot(i, diff, 'go')\n",
    "                    else:\n",
    "                        a.plot(i, diff, 'ro')\n",
    "                if 0 <= ref_idx-i < len(measured): \n",
    "                    diff = per_diff(reference[ref_idx], measured[ref_idx-i])\n",
    "                    max_dose_dev = update_max(max_dose_dev, abs(diff))\n",
    "                    if check_pass(dta, dose_dev, i, diff):\n",
    "                        a.plot(-i, diff, 'go')\n",
    "                        overall_status = 'PASS'\n",
    "                    else:\n",
    "                        a.plot(-i, diff, 'ro')\n",
    "            else:\n",
    "                diff = per_diff(reference[ref_idx], measured[ref_idx])\n",
    "                max_dose_dev = update_max(max_dose_dev, abs(diff))\n",
    "                if check_pass(dta, dose_dev, i, diff):\n",
    "                    a.plot(i, diff, 'go')\n",
    "                    overall_status = 'PASS'\n",
    "                else:\n",
    "                    a.plot(i, diff, 'ro')\n",
    "        if dose_dev > max_dose_dev:\n",
    "            plt.xlim(-dta-5, dta+5)\n",
    "            plt.ylim(-dose_dev-5, dose_dev+5)\n",
    "        else:\n",
    "            plt.xlim(-dta-5, dta+5)\n",
    "            plt.ylim(-max_dose_dev-5, max_dose_dev+5)\n",
    "        plt.xlabel(\"Distance from point (mm)\")\n",
    "        plt.ylabel(\"Dose Deviation (%)\")\n",
    "        plt.title(f\"Gamma Analysis Status: {overall_status}\")\n",
    "        plt.show()\n",
    "\n",
    "# Calling interaction widget which uses the function above to visualise the parameter space\n",
    "interact(gamma_analysis, \n",
    "         dta=widgets.IntSlider(min=1, max=10, step=1, value=3), \n",
    "         dose_dev=widgets.IntSlider(min=1, max=10, step=1, value=3), \n",
    "         ref_idx=widgets.IntSlider(min=0, max=len(reference)-1, step=1, value=3));"
   ]
  },
  {
   "cell_type": "markdown",
   "metadata": {},
   "source": [
    "### Let us expand this so you can quickly change the testing arrays:\n",
    "If you run the below cell, you will be asked to define both the reference and measured arrays. Feel free to explore how this works."
   ]
  },
  {
   "cell_type": "code",
   "execution_count": null,
   "metadata": {},
   "outputs": [],
   "source": [
    "def get_arrays():\n",
    "    user_reference = eval(input('User reference array: '))\n",
    "    user_measured = eval(input('User measured array: '))\n",
    "    assert len(user_reference) == len(user_measured)\n",
    "    return user_reference, user_measured\n",
    "\n",
    "def user_gamma_analysis(dta, dose_dev, ref_idx):\n",
    "    with plt.xkcd():\n",
    "        measured = user_measured\n",
    "        reference = user_reference\n",
    "        overall_status = 'FAIL'\n",
    "        elps = Ellipse((0, 0), dta*2, dose_dev*2,edgecolor='g',facecolor='g', alpha=0.2)\n",
    "        x_axis = np.linspace(-dta-5,dta+5,100)\n",
    "        y_axis = np.linspace(-dose_dev-5, dose_dev+5,100)\n",
    "        line = np.linspace(0,0,100)\n",
    "        y = np.linspace(0,0,100)\n",
    "        a = plt.subplot(111, aspect='equal')\n",
    "        a.plot(x_axis, line, 'k--', alpha=0.5)\n",
    "        a.plot(line, y_axis, 'k--', alpha=0.5)\n",
    "        a.add_artist(elps)\n",
    "        max_dose_dev = 0\n",
    "        for i in range(0, dta+1):\n",
    "            if i != 0:\n",
    "                if 0 <= ref_idx+i < len(measured):\n",
    "                    diff = per_diff(reference[ref_idx], measured[ref_idx+i])\n",
    "                    max_dose_dev = update_max(max_dose_dev, abs(diff))\n",
    "                    if check_pass(dta, dose_dev, i, diff):\n",
    "                        overall_status = 'PASS'\n",
    "                        a.plot(i, diff, 'go')\n",
    "                    else:\n",
    "                        a.plot(i, diff, 'ro')\n",
    "                if 0 <= ref_idx-i < len(measured): \n",
    "                    diff = per_diff(reference[ref_idx], measured[ref_idx-i])\n",
    "                    max_dose_dev = update_max(max_dose_dev, abs(diff))\n",
    "                    if check_pass(dta, dose_dev, i, diff):\n",
    "                        a.plot(-i, diff, 'go')\n",
    "                        overall_status = 'PASS'\n",
    "                    else:\n",
    "                        a.plot(-i, diff, 'ro')\n",
    "            else:\n",
    "                diff = per_diff(reference[ref_idx], measured[ref_idx])\n",
    "                max_dose_dev = update_max(max_dose_dev, abs(diff))\n",
    "                if check_pass(dta, dose_dev, i, diff):\n",
    "                    a.plot(i, diff, 'go')\n",
    "                    overall_status = 'PASS'\n",
    "                else:\n",
    "                    a.plot(i, diff, 'ro')\n",
    "        if dose_dev > max_dose_dev:\n",
    "            plt.xlim(-dta-5, dta+5)\n",
    "            plt.ylim(-dose_dev-5, dose_dev+5)\n",
    "        else:\n",
    "            plt.xlim(-dta-max_dose_dev, dta+max_dose_dev)\n",
    "            plt.ylim(-max_dose_dev-5, max_dose_dev+5)\n",
    "        plt.xlabel(\"Distance from point (mm)\")\n",
    "        plt.ylabel(\"Dose Deviation (%)\")\n",
    "        plt.title(f\"Gamma Analysis Status: {overall_status}\")\n",
    "        plt.show()\n",
    "        \n",
    "user_reference, user_measured = get_arrays()\n",
    "interact(user_gamma_analysis, \n",
    "         dta=widgets.IntSlider(min=1, max=100, step=1, value=3), \n",
    "         dose_dev=widgets.IntSlider(min=1, max=100, step=1, value=3), \n",
    "         ref_idx=widgets.IntSlider(min=0, max=len(user_reference)-1, step=1, value=3));"
   ]
  },
  {
   "cell_type": "markdown",
   "metadata": {},
   "source": [
    "### Local vs Global Analysis:\n",
    "When we talk about dose deviation there are two ways we can define this:\n",
    "- local: uses the pixel that is being evaluated to calculate the dose tolerance\n",
    "- global: uses a reference dose value (e.g. max dose) to calculate the dose tolerances\n",
    "\n",
    "In the examples above you have been doing a local gamma analysis. However, if you wanted to you could quite easily adjust the functions above to calculate for a global Gamma Analysis. Depending on what value is used as the reference dose to perform a global analysis, it can greatly affect the gamma pass results. "
   ]
  },
  {
   "cell_type": "markdown",
   "metadata": {},
   "source": [
    "### But what about 2D or even 3D??\n",
    "\n",
    "In the above, we have focused on a 1D example to better understand the concept of Gamma Analysis. However, when used within the clinic most Gamma Analysis will be performed for either 2D or 3D dose distributions. Luckily the methodology remains mostly the same in both 2D and 3D analysis. The process above remains constant, we just need to test more points within the distance-to-agreement metric we use for each dimension. This is primarily what makes the computation time start to ramp up as the number of pixels you need to check is cubed with each added dimension. If you feel **inspired** by this worksheet you could always try coding a 2D Gamma Analysis algorithm (it's easier than you may first think)!  "
   ]
  },
  {
   "cell_type": "markdown",
   "metadata": {},
   "source": [
    "## Troubleshooting problems\n",
    "\n",
    "Now that we understand how we use Gamma Analysis to verify a treatment plan. Here we will assess some troubleshooting for when the Gamma Analysis fails. Below is a list of considerations you should always keep in mind:\n",
    "- The output from the treatment machine varies over time (example tolerance +/- 2%)\n",
    "- The device we carry out the verification with has limitations and can degrade over time\n",
    "- Lasers and movement devices used for set-up can vary (example tolerance +/- 2 mm)\n",
    "- The machine limitations in the TPS do not match up with the actual machine limits\n",
    "\n",
    "So when we are set-up on with our measuring device (see example below of Delta4) on the couch it becomes very important to keep in mind these considerations. This makes it possible to troubleshoot more effectively and avoids the treatment being delayed. "
   ]
  },
  {
   "cell_type": "markdown",
   "metadata": {},
   "source": [
    "<img src=\"figures/DELTA4.png\">"
   ]
  },
  {
   "cell_type": "code",
   "execution_count": null,
   "metadata": {},
   "outputs": [],
   "source": []
  }
 ],
 "metadata": {
  "kernelspec": {
   "display_name": "Python 3",
   "language": "python",
   "name": "python3"
  },
  "language_info": {
   "codemirror_mode": {
    "name": "ipython",
    "version": 3
   },
   "file_extension": ".py",
   "mimetype": "text/x-python",
   "name": "python",
   "nbconvert_exporter": "python",
   "pygments_lexer": "ipython3",
   "version": "3.6.7"
  }
 },
 "nbformat": 4,
 "nbformat_minor": 2
}
